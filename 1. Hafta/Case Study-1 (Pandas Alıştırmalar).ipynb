{
 "cells": [
  {
   "cell_type": "markdown",
   "metadata": {},
   "source": [
    "Görev 1:  Seaborn kütüphanesi içerisinden Titanic veri setini tanımlayınız."
   ]
  },
  {
   "cell_type": "code",
   "execution_count": 41,
   "metadata": {},
   "outputs": [
    {
     "name": "stdout",
     "output_type": "stream",
     "text": [
      "<class 'pandas.core.frame.DataFrame'>\n",
      "RangeIndex: 891 entries, 0 to 890\n",
      "Data columns (total 15 columns):\n",
      " #   Column       Non-Null Count  Dtype   \n",
      "---  ------       --------------  -----   \n",
      " 0   survived     891 non-null    int64   \n",
      " 1   pclass       891 non-null    int64   \n",
      " 2   sex          891 non-null    object  \n",
      " 3   age          714 non-null    float64 \n",
      " 4   sibsp        891 non-null    int64   \n",
      " 5   parch        891 non-null    int64   \n",
      " 6   fare         891 non-null    float64 \n",
      " 7   embarked     889 non-null    object  \n",
      " 8   class        891 non-null    category\n",
      " 9   who          891 non-null    object  \n",
      " 10  adult_male   891 non-null    bool    \n",
      " 11  deck         203 non-null    category\n",
      " 12  embark_town  889 non-null    object  \n",
      " 13  alive        891 non-null    object  \n",
      " 14  alone        891 non-null    bool    \n",
      "dtypes: bool(2), category(2), float64(2), int64(4), object(5)\n",
      "memory usage: 80.6+ KB\n",
      "None\n"
     ]
    }
   ],
   "source": [
    "import seaborn as sns\n",
    "df=sns.load_dataset(\"titanic\")\n",
    "print(df.info())"
   ]
  },
  {
   "cell_type": "markdown",
   "metadata": {},
   "source": [
    "Görev 2:  Titanic veri setindeki kadın ve erkek yolcuların sayısını bulunuz."
   ]
  },
  {
   "cell_type": "code",
   "execution_count": 42,
   "metadata": {},
   "outputs": [
    {
     "name": "stdout",
     "output_type": "stream",
     "text": [
      "male      577\n",
      "female    314\n",
      "Name: sex, dtype: int64\n"
     ]
    }
   ],
   "source": [
    "print(df[\"sex\"].value_counts())"
   ]
  },
  {
   "cell_type": "markdown",
   "metadata": {},
   "source": [
    "Görev3:  Her bir sutuna ait unique değerlerin sayısını bulunuz."
   ]
  },
  {
   "cell_type": "code",
   "execution_count": 43,
   "metadata": {},
   "outputs": [
    {
     "name": "stdout",
     "output_type": "stream",
     "text": [
      "2\n",
      "3\n",
      "2\n",
      "88\n",
      "7\n",
      "7\n",
      "248\n",
      "3\n",
      "3\n",
      "3\n",
      "2\n",
      "7\n",
      "3\n",
      "2\n",
      "2\n"
     ]
    }
   ],
   "source": [
    "for i in df.columns:\n",
    "    print(df[i].nunique())"
   ]
  },
  {
   "cell_type": "markdown",
   "metadata": {},
   "source": [
    "Görev4:  pclass değişkenini nunique değerlerinin sayısını bulunuz"
   ]
  },
  {
   "cell_type": "code",
   "execution_count": 44,
   "metadata": {},
   "outputs": [
    {
     "name": "stdout",
     "output_type": "stream",
     "text": [
      "3\n"
     ]
    }
   ],
   "source": [
    "print(df[\"pclass\"].nunique())"
   ]
  },
  {
   "cell_type": "markdown",
   "metadata": {},
   "source": [
    "Görev5:  pclass ve parch değişkenlerini nunique değerlerinin sayısını bulunuz"
   ]
  },
  {
   "cell_type": "code",
   "execution_count": 45,
   "metadata": {},
   "outputs": [
    {
     "name": "stdout",
     "output_type": "stream",
     "text": [
      "3\n",
      "7\n"
     ]
    }
   ],
   "source": [
    "print(df[\"pclass\"].nunique())\n",
    "print(df[\"parch\"].nunique())"
   ]
  },
  {
   "cell_type": "markdown",
   "metadata": {},
   "source": [
    "Görev6:  embarked değişkeninin tipini kontrol ediniz. Tipini category olarak değiştiriniz ve tekrar kontrol ediniz."
   ]
  },
  {
   "cell_type": "code",
   "execution_count": 46,
   "metadata": {},
   "outputs": [
    {
     "name": "stdout",
     "output_type": "stream",
     "text": [
      "object\n",
      "category\n"
     ]
    }
   ],
   "source": [
    "print(df[\"embarked\"].dtype)\n",
    "df[\"embarked\"]=df[\"embarked\"].astype('category')\n",
    "print(df[\"embarked\"].dtype)\n"
   ]
  },
  {
   "cell_type": "markdown",
   "metadata": {},
   "source": [
    "Görev7:  embarked değeri C olanların tüm bilgelerini gösteriniz"
   ]
  },
  {
   "cell_type": "code",
   "execution_count": 47,
   "metadata": {},
   "outputs": [
    {
     "name": "stdout",
     "output_type": "stream",
     "text": [
      "     survived  pclass     sex   age  sibsp  parch     fare embarked   class  \\\n",
      "1           1       1  female  38.0      1      0  71.2833        C   First   \n",
      "9           1       2  female  14.0      1      0  30.0708        C  Second   \n",
      "19          1       3  female   NaN      0      0   7.2250        C   Third   \n",
      "26          0       3    male   NaN      0      0   7.2250        C   Third   \n",
      "30          0       1    male  40.0      0      0  27.7208        C   First   \n",
      "..        ...     ...     ...   ...    ...    ...      ...      ...     ...   \n",
      "866         1       2  female  27.0      1      0  13.8583        C  Second   \n",
      "874         1       2  female  28.0      1      0  24.0000        C  Second   \n",
      "875         1       3  female  15.0      0      0   7.2250        C   Third   \n",
      "879         1       1  female  56.0      0      1  83.1583        C   First   \n",
      "889         1       1    male  26.0      0      0  30.0000        C   First   \n",
      "\n",
      "       who  adult_male deck embark_town alive  alone  \n",
      "1    woman       False    C   Cherbourg   yes  False  \n",
      "9    child       False  NaN   Cherbourg   yes  False  \n",
      "19   woman       False  NaN   Cherbourg   yes   True  \n",
      "26     man        True  NaN   Cherbourg    no   True  \n",
      "30     man        True  NaN   Cherbourg    no   True  \n",
      "..     ...         ...  ...         ...   ...    ...  \n",
      "866  woman       False  NaN   Cherbourg   yes  False  \n",
      "874  woman       False  NaN   Cherbourg   yes  False  \n",
      "875  child       False  NaN   Cherbourg   yes   True  \n",
      "879  woman       False    C   Cherbourg   yes  False  \n",
      "889    man        True    C   Cherbourg   yes   True  \n",
      "\n",
      "[168 rows x 15 columns]\n"
     ]
    }
   ],
   "source": [
    "c_olan = df[df['embarked'] == 'C']\n",
    "print(c_olan)\n",
    "    "
   ]
  },
  {
   "cell_type": "markdown",
   "metadata": {},
   "source": [
    "Görev 8:  embarked değeri S olmayanların tüm bilgelerini gösteriniz."
   ]
  },
  {
   "cell_type": "code",
   "execution_count": 48,
   "metadata": {},
   "outputs": [
    {
     "name": "stdout",
     "output_type": "stream",
     "text": [
      "     survived  pclass     sex   age  sibsp  parch     fare embarked   class  \\\n",
      "1           1       1  female  38.0      1      0  71.2833        C   First   \n",
      "5           0       3    male   NaN      0      0   8.4583        Q   Third   \n",
      "9           1       2  female  14.0      1      0  30.0708        C  Second   \n",
      "16          0       3    male   2.0      4      1  29.1250        Q   Third   \n",
      "19          1       3  female   NaN      0      0   7.2250        C   Third   \n",
      "..        ...     ...     ...   ...    ...    ...      ...      ...     ...   \n",
      "875         1       3  female  15.0      0      0   7.2250        C   Third   \n",
      "879         1       1  female  56.0      0      1  83.1583        C   First   \n",
      "885         0       3  female  39.0      0      5  29.1250        Q   Third   \n",
      "889         1       1    male  26.0      0      0  30.0000        C   First   \n",
      "890         0       3    male  32.0      0      0   7.7500        Q   Third   \n",
      "\n",
      "       who  adult_male deck embark_town alive  alone  \n",
      "1    woman       False    C   Cherbourg   yes  False  \n",
      "5      man        True  NaN  Queenstown    no   True  \n",
      "9    child       False  NaN   Cherbourg   yes  False  \n",
      "16   child       False  NaN  Queenstown    no  False  \n",
      "19   woman       False  NaN   Cherbourg   yes   True  \n",
      "..     ...         ...  ...         ...   ...    ...  \n",
      "875  child       False  NaN   Cherbourg   yes   True  \n",
      "879  woman       False    C   Cherbourg   yes  False  \n",
      "885  woman       False  NaN  Queenstown    no  False  \n",
      "889    man        True    C   Cherbourg   yes   True  \n",
      "890    man        True  NaN  Queenstown    no   True  \n",
      "\n",
      "[245 rows x 15 columns]\n"
     ]
    }
   ],
   "source": [
    "s_olmayan= df[df[\"embarked\"]!= 'S']\n",
    "print(s_olmayan)"
   ]
  },
  {
   "cell_type": "markdown",
   "metadata": {},
   "source": [
    "Görev9:   Yaşı 30 dan küçük ve kadın olan yolcuların tüm bilgilerini gösteriniz."
   ]
  },
  {
   "cell_type": "code",
   "execution_count": 49,
   "metadata": {},
   "outputs": [
    {
     "name": "stdout",
     "output_type": "stream",
     "text": [
      "     survived  pclass     sex   age  sibsp  parch     fare embarked   class  \\\n",
      "2           1       3  female  26.0      0      0   7.9250        S   Third   \n",
      "8           1       3  female  27.0      0      2  11.1333        S   Third   \n",
      "9           1       2  female  14.0      1      0  30.0708        C  Second   \n",
      "10          1       3  female   4.0      1      1  16.7000        S   Third   \n",
      "14          0       3  female  14.0      0      0   7.8542        S   Third   \n",
      "..        ...     ...     ...   ...    ...    ...      ...      ...     ...   \n",
      "874         1       2  female  28.0      1      0  24.0000        C  Second   \n",
      "875         1       3  female  15.0      0      0   7.2250        C   Third   \n",
      "880         1       2  female  25.0      0      1  26.0000        S  Second   \n",
      "882         0       3  female  22.0      0      0  10.5167        S   Third   \n",
      "887         1       1  female  19.0      0      0  30.0000        S   First   \n",
      "\n",
      "       who  adult_male deck  embark_town alive  alone  \n",
      "2    woman       False  NaN  Southampton   yes   True  \n",
      "8    woman       False  NaN  Southampton   yes  False  \n",
      "9    child       False  NaN    Cherbourg   yes  False  \n",
      "10   child       False    G  Southampton   yes  False  \n",
      "14   child       False  NaN  Southampton    no   True  \n",
      "..     ...         ...  ...          ...   ...    ...  \n",
      "874  woman       False  NaN    Cherbourg   yes  False  \n",
      "875  child       False  NaN    Cherbourg   yes   True  \n",
      "880  woman       False  NaN  Southampton   yes  False  \n",
      "882  woman       False  NaN  Southampton    no   True  \n",
      "887  woman       False    B  Southampton   yes   True  \n",
      "\n",
      "[147 rows x 15 columns]\n"
     ]
    }
   ],
   "source": [
    "görev9= df[(df[\"age\"]<30) & (df[\"sex\"]== \"female\")]\n",
    "print(görev9)"
   ]
  },
  {
   "cell_type": "markdown",
   "metadata": {},
   "source": [
    "Görev10:  Fare'i 500'den büyük veya yaşı70 den büyük yolcuların bilgilerini gösteriniz."
   ]
  },
  {
   "cell_type": "code",
   "execution_count": 50,
   "metadata": {},
   "outputs": [
    {
     "name": "stdout",
     "output_type": "stream",
     "text": [
      "     survived  pclass     sex   age  sibsp  parch     fare embarked   class  \\\n",
      "2           1       3  female  26.0      0      0   7.9250        S   Third   \n",
      "8           1       3  female  27.0      0      2  11.1333        S   Third   \n",
      "9           1       2  female  14.0      1      0  30.0708        C  Second   \n",
      "10          1       3  female   4.0      1      1  16.7000        S   Third   \n",
      "14          0       3  female  14.0      0      0   7.8542        S   Third   \n",
      "..        ...     ...     ...   ...    ...    ...      ...      ...     ...   \n",
      "874         1       2  female  28.0      1      0  24.0000        C  Second   \n",
      "875         1       3  female  15.0      0      0   7.2250        C   Third   \n",
      "880         1       2  female  25.0      0      1  26.0000        S  Second   \n",
      "882         0       3  female  22.0      0      0  10.5167        S   Third   \n",
      "887         1       1  female  19.0      0      0  30.0000        S   First   \n",
      "\n",
      "       who  adult_male deck  embark_town alive  alone  \n",
      "2    woman       False  NaN  Southampton   yes   True  \n",
      "8    woman       False  NaN  Southampton   yes  False  \n",
      "9    child       False  NaN    Cherbourg   yes  False  \n",
      "10   child       False    G  Southampton   yes  False  \n",
      "14   child       False  NaN  Southampton    no   True  \n",
      "..     ...         ...  ...          ...   ...    ...  \n",
      "874  woman       False  NaN    Cherbourg   yes  False  \n",
      "875  child       False  NaN    Cherbourg   yes   True  \n",
      "880  woman       False  NaN  Southampton   yes  False  \n",
      "882  woman       False  NaN  Southampton    no   True  \n",
      "887  woman       False    B  Southampton   yes   True  \n",
      "\n",
      "[147 rows x 15 columns]\n"
     ]
    }
   ],
   "source": [
    "görev10= df[(df[\"fare\"]<500) | (df[\"age\"] > 70)]\n",
    "print(görev9)"
   ]
  },
  {
   "cell_type": "markdown",
   "metadata": {},
   "source": [
    "Görev 11:  Her bir değişkendeki boş değerlerin toplamını bulunuz"
   ]
  },
  {
   "cell_type": "code",
   "execution_count": 51,
   "metadata": {},
   "outputs": [
    {
     "name": "stdout",
     "output_type": "stream",
     "text": [
      "survived         0\n",
      "pclass           0\n",
      "sex              0\n",
      "age            177\n",
      "sibsp            0\n",
      "parch            0\n",
      "fare             0\n",
      "embarked         2\n",
      "class            0\n",
      "who              0\n",
      "adult_male       0\n",
      "deck           688\n",
      "embark_town      2\n",
      "alive            0\n",
      "alone            0\n",
      "dtype: int64\n"
     ]
    }
   ],
   "source": [
    "print(df.isnull().sum())"
   ]
  },
  {
   "cell_type": "markdown",
   "metadata": {},
   "source": [
    "Görev 12:  who değişkenini dataframe’den çıkarınız."
   ]
  },
  {
   "cell_type": "code",
   "execution_count": 52,
   "metadata": {},
   "outputs": [],
   "source": [
    "df = df.drop('who', axis=1)"
   ]
  },
  {
   "cell_type": "markdown",
   "metadata": {},
   "source": [
    "Görev13:  deck değikenindeki boş değerleri deck değişkenin en çok tekrar eden değeri(mode) ile doldurunuz."
   ]
  },
  {
   "cell_type": "code",
   "execution_count": 53,
   "metadata": {},
   "outputs": [],
   "source": [
    "mode1=df['deck'].mode()[0]\n",
    "df[\"deck\"]=df[\"deck\"].fillna(mode1)"
   ]
  },
  {
   "cell_type": "markdown",
   "metadata": {},
   "source": [
    "Görev14:  age değişkenindeki boş değerleri age değişkenin medyanı ile doldurunuz."
   ]
  },
  {
   "cell_type": "code",
   "execution_count": 54,
   "metadata": {},
   "outputs": [],
   "source": [
    "medyan=df[\"age\"].median()\n",
    "df[\"age\"]=df[\"age\"].fillna(medyan)"
   ]
  },
  {
   "cell_type": "markdown",
   "metadata": {},
   "source": [
    "Görev 15:  survived değişkeninin pclass ve cinsiyet değişkenleri kırılımınında sum,count,mean değerlerini bulunuz.\n"
   ]
  },
  {
   "cell_type": "code",
   "execution_count": 55,
   "metadata": {},
   "outputs": [
    {
     "name": "stdout",
     "output_type": "stream",
     "text": [
      "          mean: \n",
      "pclass          \n",
      "1       0.629630\n",
      "2       0.472826\n",
      "3       0.242363\n",
      "        sum: \n",
      "pclass       \n",
      "1         136\n",
      "2          87\n",
      "3         119\n",
      "        count: \n",
      "pclass         \n",
      "1           216\n",
      "2           184\n",
      "3           491\n"
     ]
    }
   ],
   "source": [
    "import pandas as pd\n",
    "\n",
    "def target_hepsi(dataframe,target,column):\n",
    "    print(pd.DataFrame({\"mean: \": dataframe.groupby(column)[target].mean()}))\n",
    "    print(pd.DataFrame({\"sum: \": dataframe.groupby(column)[target].sum()}))\n",
    "    print(pd.DataFrame({\"count: \": dataframe.groupby(column)[target].count()}))\n",
    "\n",
    "target_hepsi(df,\"survived\",\"pclass\")\n"
   ]
  },
  {
   "cell_type": "markdown",
   "metadata": {},
   "source": [
    "Görev 16:  30 yaşın altında olanlar 1 , 30'a eşit ve üstünde olanlara 0 vericek bir fonksiyon yazın. Yazdığınız fonksiyonu kullanarak titanik veri setinde age_flag adında bir değişken oluşturunuz. (apply ve lambda yapılarını kullanınız.)"
   ]
  },
  {
   "cell_type": "code",
   "execution_count": 121,
   "metadata": {},
   "outputs": [
    {
     "data": {
      "text/html": [
       "<div>\n",
       "<style scoped>\n",
       "    .dataframe tbody tr th:only-of-type {\n",
       "        vertical-align: middle;\n",
       "    }\n",
       "\n",
       "    .dataframe tbody tr th {\n",
       "        vertical-align: top;\n",
       "    }\n",
       "\n",
       "    .dataframe thead th {\n",
       "        text-align: right;\n",
       "    }\n",
       "</style>\n",
       "<table border=\"1\" class=\"dataframe\">\n",
       "  <thead>\n",
       "    <tr style=\"text-align: right;\">\n",
       "      <th></th>\n",
       "      <th>survived</th>\n",
       "      <th>pclass</th>\n",
       "      <th>sex</th>\n",
       "      <th>age</th>\n",
       "      <th>sibsp</th>\n",
       "      <th>parch</th>\n",
       "      <th>fare</th>\n",
       "      <th>embarked</th>\n",
       "      <th>class</th>\n",
       "      <th>adult_male</th>\n",
       "      <th>deck</th>\n",
       "      <th>embark_town</th>\n",
       "      <th>alive</th>\n",
       "      <th>alone</th>\n",
       "      <th>age_flag</th>\n",
       "    </tr>\n",
       "  </thead>\n",
       "  <tbody>\n",
       "    <tr>\n",
       "      <th>0</th>\n",
       "      <td>0</td>\n",
       "      <td>3</td>\n",
       "      <td>male</td>\n",
       "      <td>22.0</td>\n",
       "      <td>1</td>\n",
       "      <td>0</td>\n",
       "      <td>7.2500</td>\n",
       "      <td>S</td>\n",
       "      <td>Third</td>\n",
       "      <td>True</td>\n",
       "      <td>C</td>\n",
       "      <td>Southampton</td>\n",
       "      <td>no</td>\n",
       "      <td>False</td>\n",
       "      <td>1</td>\n",
       "    </tr>\n",
       "    <tr>\n",
       "      <th>1</th>\n",
       "      <td>1</td>\n",
       "      <td>1</td>\n",
       "      <td>female</td>\n",
       "      <td>38.0</td>\n",
       "      <td>1</td>\n",
       "      <td>0</td>\n",
       "      <td>71.2833</td>\n",
       "      <td>C</td>\n",
       "      <td>First</td>\n",
       "      <td>False</td>\n",
       "      <td>C</td>\n",
       "      <td>Cherbourg</td>\n",
       "      <td>yes</td>\n",
       "      <td>False</td>\n",
       "      <td>0</td>\n",
       "    </tr>\n",
       "    <tr>\n",
       "      <th>2</th>\n",
       "      <td>1</td>\n",
       "      <td>3</td>\n",
       "      <td>female</td>\n",
       "      <td>26.0</td>\n",
       "      <td>0</td>\n",
       "      <td>0</td>\n",
       "      <td>7.9250</td>\n",
       "      <td>S</td>\n",
       "      <td>Third</td>\n",
       "      <td>False</td>\n",
       "      <td>C</td>\n",
       "      <td>Southampton</td>\n",
       "      <td>yes</td>\n",
       "      <td>True</td>\n",
       "      <td>1</td>\n",
       "    </tr>\n",
       "    <tr>\n",
       "      <th>3</th>\n",
       "      <td>1</td>\n",
       "      <td>1</td>\n",
       "      <td>female</td>\n",
       "      <td>35.0</td>\n",
       "      <td>1</td>\n",
       "      <td>0</td>\n",
       "      <td>53.1000</td>\n",
       "      <td>S</td>\n",
       "      <td>First</td>\n",
       "      <td>False</td>\n",
       "      <td>C</td>\n",
       "      <td>Southampton</td>\n",
       "      <td>yes</td>\n",
       "      <td>False</td>\n",
       "      <td>0</td>\n",
       "    </tr>\n",
       "    <tr>\n",
       "      <th>4</th>\n",
       "      <td>0</td>\n",
       "      <td>3</td>\n",
       "      <td>male</td>\n",
       "      <td>35.0</td>\n",
       "      <td>0</td>\n",
       "      <td>0</td>\n",
       "      <td>8.0500</td>\n",
       "      <td>S</td>\n",
       "      <td>Third</td>\n",
       "      <td>True</td>\n",
       "      <td>C</td>\n",
       "      <td>Southampton</td>\n",
       "      <td>no</td>\n",
       "      <td>True</td>\n",
       "      <td>0</td>\n",
       "    </tr>\n",
       "  </tbody>\n",
       "</table>\n",
       "</div>"
      ],
      "text/plain": [
       "   survived  pclass     sex   age  sibsp  parch     fare embarked  class  \\\n",
       "0         0       3    male  22.0      1      0   7.2500        S  Third   \n",
       "1         1       1  female  38.0      1      0  71.2833        C  First   \n",
       "2         1       3  female  26.0      0      0   7.9250        S  Third   \n",
       "3         1       1  female  35.0      1      0  53.1000        S  First   \n",
       "4         0       3    male  35.0      0      0   8.0500        S  Third   \n",
       "\n",
       "   adult_male deck  embark_town alive  alone  age_flag  \n",
       "0        True    C  Southampton    no  False         1  \n",
       "1       False    C    Cherbourg   yes  False         0  \n",
       "2       False    C  Southampton   yes   True         1  \n",
       "3       False    C  Southampton   yes  False         0  \n",
       "4        True    C  Southampton    no   True         0  "
      ]
     },
     "execution_count": 121,
     "metadata": {},
     "output_type": "execute_result"
    }
   ],
   "source": [
    "def age_flag_func(age):\n",
    "    return 1 if age < 30 else 0\n",
    "\n",
    "df['age_flag'] = df['age'].apply(lambda age: age_flag_func(age))\n",
    "df.head()"
   ]
  },
  {
   "cell_type": "markdown",
   "metadata": {},
   "source": [
    "Görev 17:  Seaborn kütüphanesi içerisinden Tips veri setini tanımlayınız."
   ]
  },
  {
   "cell_type": "code",
   "execution_count": 86,
   "metadata": {},
   "outputs": [
    {
     "data": {
      "text/html": [
       "<div>\n",
       "<style scoped>\n",
       "    .dataframe tbody tr th:only-of-type {\n",
       "        vertical-align: middle;\n",
       "    }\n",
       "\n",
       "    .dataframe tbody tr th {\n",
       "        vertical-align: top;\n",
       "    }\n",
       "\n",
       "    .dataframe thead th {\n",
       "        text-align: right;\n",
       "    }\n",
       "</style>\n",
       "<table border=\"1\" class=\"dataframe\">\n",
       "  <thead>\n",
       "    <tr style=\"text-align: right;\">\n",
       "      <th></th>\n",
       "      <th>total_bill</th>\n",
       "      <th>tip</th>\n",
       "      <th>sex</th>\n",
       "      <th>smoker</th>\n",
       "      <th>day</th>\n",
       "      <th>time</th>\n",
       "      <th>size</th>\n",
       "    </tr>\n",
       "  </thead>\n",
       "  <tbody>\n",
       "    <tr>\n",
       "      <th>0</th>\n",
       "      <td>16.99</td>\n",
       "      <td>1.01</td>\n",
       "      <td>Female</td>\n",
       "      <td>No</td>\n",
       "      <td>Sun</td>\n",
       "      <td>Dinner</td>\n",
       "      <td>2</td>\n",
       "    </tr>\n",
       "    <tr>\n",
       "      <th>1</th>\n",
       "      <td>10.34</td>\n",
       "      <td>1.66</td>\n",
       "      <td>Male</td>\n",
       "      <td>No</td>\n",
       "      <td>Sun</td>\n",
       "      <td>Dinner</td>\n",
       "      <td>3</td>\n",
       "    </tr>\n",
       "    <tr>\n",
       "      <th>2</th>\n",
       "      <td>21.01</td>\n",
       "      <td>3.50</td>\n",
       "      <td>Male</td>\n",
       "      <td>No</td>\n",
       "      <td>Sun</td>\n",
       "      <td>Dinner</td>\n",
       "      <td>3</td>\n",
       "    </tr>\n",
       "    <tr>\n",
       "      <th>3</th>\n",
       "      <td>23.68</td>\n",
       "      <td>3.31</td>\n",
       "      <td>Male</td>\n",
       "      <td>No</td>\n",
       "      <td>Sun</td>\n",
       "      <td>Dinner</td>\n",
       "      <td>2</td>\n",
       "    </tr>\n",
       "    <tr>\n",
       "      <th>4</th>\n",
       "      <td>24.59</td>\n",
       "      <td>3.61</td>\n",
       "      <td>Female</td>\n",
       "      <td>No</td>\n",
       "      <td>Sun</td>\n",
       "      <td>Dinner</td>\n",
       "      <td>4</td>\n",
       "    </tr>\n",
       "  </tbody>\n",
       "</table>\n",
       "</div>"
      ],
      "text/plain": [
       "   total_bill   tip     sex smoker  day    time  size\n",
       "0       16.99  1.01  Female     No  Sun  Dinner     2\n",
       "1       10.34  1.66    Male     No  Sun  Dinner     3\n",
       "2       21.01  3.50    Male     No  Sun  Dinner     3\n",
       "3       23.68  3.31    Male     No  Sun  Dinner     2\n",
       "4       24.59  3.61  Female     No  Sun  Dinner     4"
      ]
     },
     "execution_count": 86,
     "metadata": {},
     "output_type": "execute_result"
    }
   ],
   "source": [
    "dft=sns.load_dataset(\"tips\")\n",
    "dft.head()"
   ]
  },
  {
   "cell_type": "markdown",
   "metadata": {},
   "source": [
    "Görev18:  Time değişkeninin kategorilerine (Dinner, Lunch) göre total_bill değerlerinin toplamını, min, max ve ortalamasını bulunuz."
   ]
  },
  {
   "cell_type": "code",
   "execution_count": 29,
   "metadata": {},
   "outputs": [
    {
     "name": "stdout",
     "output_type": "stream",
     "text": [
      "        min: \n",
      "time         \n",
      "Lunch    7.51\n",
      "Dinner   3.07\n",
      "        max: \n",
      "time         \n",
      "Lunch   43.11\n",
      "Dinner  50.81\n",
      "           mean: \n",
      "time             \n",
      "Lunch   17.168676\n",
      "Dinner  20.797159\n"
     ]
    }
   ],
   "source": [
    "def target(dataframe,target,column):\n",
    "    print(pd.DataFrame({\"min: \": dataframe.groupby(column)[target].min()}))\n",
    "    print(pd.DataFrame({\"max: \": dataframe.groupby(column)[target].max()}))\n",
    "    print(pd.DataFrame({\"mean: \": dataframe.groupby(column)[target].mean()}))\n",
    "    \n",
    "target(dft,\"total_bill\",\"time\")"
   ]
  },
  {
   "cell_type": "markdown",
   "metadata": {},
   "source": [
    "Görev19:  Günlere ve time göre total_bill değerlerinin toplamını, min, max ve ortalamasını bulunuz."
   ]
  },
  {
   "cell_type": "code",
   "execution_count": 40,
   "metadata": {},
   "outputs": [
    {
     "name": "stdout",
     "output_type": "stream",
     "text": [
      "             min: \n",
      "time   day        \n",
      "Lunch  Thur   7.51\n",
      "       Fri    8.58\n",
      "       Sat     NaN\n",
      "       Sun     NaN\n",
      "Dinner Thur  18.78\n",
      "       Fri    5.75\n",
      "       Sat    3.07\n",
      "       Sun    7.25\n"
     ]
    }
   ],
   "source": [
    "def target_day_time(dataframe,target,column1,column2):\n",
    "    print(pd.DataFrame({\"min: \": dataframe.groupby([column1,column2])[target].min()}))\n",
    "\n",
    "    \n",
    "target_day_time(dft,\"total_bill\",\"time\",\"day\")\n"
   ]
  },
  {
   "cell_type": "markdown",
   "metadata": {},
   "source": [
    "Görev 20:  Lunch zamanına ve kadın müşterilere ait total_bill ve tip değerlerinin day'e göre toplamını, min, max ve ortalamasını bulunuz\n"
   ]
  },
  {
   "cell_type": "code",
   "execution_count": 81,
   "metadata": {},
   "outputs": [
    {
     "name": "stdout",
     "output_type": "stream",
     "text": [
      "      min: \n",
      "day        \n",
      "Thur    NaN\n",
      "Fri     NaN\n",
      "Sat     NaN\n",
      "Sun     NaN\n",
      "      max: \n",
      "day        \n",
      "Thur    NaN\n",
      "Fri     NaN\n",
      "Sat     NaN\n",
      "Sun     NaN\n",
      "      mean: \n",
      "day         \n",
      "Thur     NaN\n",
      "Fri      NaN\n",
      "Sat      NaN\n",
      "Sun      NaN\n",
      "      min: \n",
      "day        \n",
      "Thur    NaN\n",
      "Fri     NaN\n",
      "Sat     NaN\n",
      "Sun     NaN\n",
      "      max: \n",
      "day        \n",
      "Thur    NaN\n",
      "Fri     NaN\n",
      "Sat     NaN\n",
      "Sun     NaN\n",
      "      mean: \n",
      "day         \n",
      "Thur     NaN\n",
      "Fri      NaN\n",
      "Sat      NaN\n",
      "Sun      NaN\n"
     ]
    }
   ],
   "source": [
    "female_lunch=dft[(dft['time'] == 'Lunch') & (dft['sex'] == 'female')]\n",
    "def target_female_lunch(dataframe,target,column):\n",
    "    print(pd.DataFrame({\"min: \": dataframe.groupby(column)[target].min()}))\n",
    "    print(pd.DataFrame({\"max: \": dataframe.groupby(column)[target].max()}))\n",
    "    print(pd.DataFrame({\"mean: \": dataframe.groupby(column)[target].mean()}))\n",
    "    \n",
    "\n",
    "target_female_lunch(female_lunch,\"tip\",\"day\")\n",
    "\n",
    "target_female_lunch(female_lunch,\"total_bill\",\"day\")\n"
   ]
  },
  {
   "cell_type": "markdown",
   "metadata": {},
   "source": [
    "Görev 21:size'i 3'ten küçük, total_bill'i 10'dan büyük olan siparişlerin ortalaması nedir? (loc kullanınız)"
   ]
  },
  {
   "cell_type": "code",
   "execution_count": 100,
   "metadata": {},
   "outputs": [
    {
     "data": {
      "text/plain": [
       "total_bill    17.184965\n",
       "tip            2.638811\n",
       "size           1.993007\n",
       "dtype: float64"
      ]
     },
     "execution_count": 100,
     "metadata": {},
     "output_type": "execute_result"
    }
   ],
   "source": [
    "siparis=((dft['total_bill'] > 10) & (dft['size']<3))\n",
    "(dft.loc[siparis]).mean()"
   ]
  },
  {
   "cell_type": "markdown",
   "metadata": {},
   "source": [
    "Görev22:  total_bill_tip_sum adında yeni bir değişken oluşturunuz. Her bir müşterinin ödediği total bill ve tip in toplamını versin."
   ]
  },
  {
   "cell_type": "code",
   "execution_count": 113,
   "metadata": {},
   "outputs": [
    {
     "data": {
      "text/plain": [
       "0    18.00\n",
       "1    12.00\n",
       "2    24.51\n",
       "3    26.99\n",
       "4    28.20\n",
       "Name: total_bill_tip_sum, dtype: float64"
      ]
     },
     "execution_count": 113,
     "metadata": {},
     "output_type": "execute_result"
    }
   ],
   "source": [
    "dft[\"total_bill_tip_sum\"] = dft[\"total_bill\"] + dft[\"tip\"]\n",
    "dft[\"total_bill_tip_sum\"].head()"
   ]
  },
  {
   "cell_type": "markdown",
   "metadata": {},
   "source": [
    "Görev23:  total_bill_tip_sum değişkenine göre büyükten küçüğe sıralayınız ve ilk 30 kişiyi yeni bir dataframe'e atayınız."
   ]
  },
  {
   "cell_type": "code",
   "execution_count": 118,
   "metadata": {},
   "outputs": [
    {
     "data": {
      "text/html": [
       "<div>\n",
       "<style scoped>\n",
       "    .dataframe tbody tr th:only-of-type {\n",
       "        vertical-align: middle;\n",
       "    }\n",
       "\n",
       "    .dataframe tbody tr th {\n",
       "        vertical-align: top;\n",
       "    }\n",
       "\n",
       "    .dataframe thead th {\n",
       "        text-align: right;\n",
       "    }\n",
       "</style>\n",
       "<table border=\"1\" class=\"dataframe\">\n",
       "  <thead>\n",
       "    <tr style=\"text-align: right;\">\n",
       "      <th></th>\n",
       "      <th>total_bill</th>\n",
       "      <th>tip</th>\n",
       "      <th>sex</th>\n",
       "      <th>smoker</th>\n",
       "      <th>day</th>\n",
       "      <th>time</th>\n",
       "      <th>size</th>\n",
       "      <th>total_bill_tip_sum</th>\n",
       "    </tr>\n",
       "  </thead>\n",
       "  <tbody>\n",
       "    <tr>\n",
       "      <th>67</th>\n",
       "      <td>3.07</td>\n",
       "      <td>1.00</td>\n",
       "      <td>Female</td>\n",
       "      <td>Yes</td>\n",
       "      <td>Sat</td>\n",
       "      <td>Dinner</td>\n",
       "      <td>1</td>\n",
       "      <td>4.07</td>\n",
       "    </tr>\n",
       "    <tr>\n",
       "      <th>92</th>\n",
       "      <td>5.75</td>\n",
       "      <td>1.00</td>\n",
       "      <td>Female</td>\n",
       "      <td>Yes</td>\n",
       "      <td>Fri</td>\n",
       "      <td>Dinner</td>\n",
       "      <td>2</td>\n",
       "      <td>6.75</td>\n",
       "    </tr>\n",
       "    <tr>\n",
       "      <th>111</th>\n",
       "      <td>7.25</td>\n",
       "      <td>1.00</td>\n",
       "      <td>Female</td>\n",
       "      <td>No</td>\n",
       "      <td>Sat</td>\n",
       "      <td>Dinner</td>\n",
       "      <td>1</td>\n",
       "      <td>8.25</td>\n",
       "    </tr>\n",
       "    <tr>\n",
       "      <th>195</th>\n",
       "      <td>7.56</td>\n",
       "      <td>1.44</td>\n",
       "      <td>Male</td>\n",
       "      <td>No</td>\n",
       "      <td>Thur</td>\n",
       "      <td>Lunch</td>\n",
       "      <td>2</td>\n",
       "      <td>9.00</td>\n",
       "    </tr>\n",
       "    <tr>\n",
       "      <th>218</th>\n",
       "      <td>7.74</td>\n",
       "      <td>1.44</td>\n",
       "      <td>Male</td>\n",
       "      <td>Yes</td>\n",
       "      <td>Sat</td>\n",
       "      <td>Dinner</td>\n",
       "      <td>2</td>\n",
       "      <td>9.18</td>\n",
       "    </tr>\n",
       "    <tr>\n",
       "      <th>149</th>\n",
       "      <td>7.51</td>\n",
       "      <td>2.00</td>\n",
       "      <td>Male</td>\n",
       "      <td>No</td>\n",
       "      <td>Thur</td>\n",
       "      <td>Lunch</td>\n",
       "      <td>2</td>\n",
       "      <td>9.51</td>\n",
       "    </tr>\n",
       "    <tr>\n",
       "      <th>135</th>\n",
       "      <td>8.51</td>\n",
       "      <td>1.25</td>\n",
       "      <td>Female</td>\n",
       "      <td>No</td>\n",
       "      <td>Thur</td>\n",
       "      <td>Lunch</td>\n",
       "      <td>2</td>\n",
       "      <td>9.76</td>\n",
       "    </tr>\n",
       "    <tr>\n",
       "      <th>145</th>\n",
       "      <td>8.35</td>\n",
       "      <td>1.50</td>\n",
       "      <td>Female</td>\n",
       "      <td>No</td>\n",
       "      <td>Thur</td>\n",
       "      <td>Lunch</td>\n",
       "      <td>2</td>\n",
       "      <td>9.85</td>\n",
       "    </tr>\n",
       "    <tr>\n",
       "      <th>126</th>\n",
       "      <td>8.52</td>\n",
       "      <td>1.48</td>\n",
       "      <td>Male</td>\n",
       "      <td>No</td>\n",
       "      <td>Thur</td>\n",
       "      <td>Lunch</td>\n",
       "      <td>2</td>\n",
       "      <td>10.00</td>\n",
       "    </tr>\n",
       "    <tr>\n",
       "      <th>222</th>\n",
       "      <td>8.58</td>\n",
       "      <td>1.92</td>\n",
       "      <td>Male</td>\n",
       "      <td>Yes</td>\n",
       "      <td>Fri</td>\n",
       "      <td>Lunch</td>\n",
       "      <td>1</td>\n",
       "      <td>10.50</td>\n",
       "    </tr>\n",
       "    <tr>\n",
       "      <th>6</th>\n",
       "      <td>8.77</td>\n",
       "      <td>2.00</td>\n",
       "      <td>Male</td>\n",
       "      <td>No</td>\n",
       "      <td>Sun</td>\n",
       "      <td>Dinner</td>\n",
       "      <td>2</td>\n",
       "      <td>10.77</td>\n",
       "    </tr>\n",
       "    <tr>\n",
       "      <th>30</th>\n",
       "      <td>9.55</td>\n",
       "      <td>1.45</td>\n",
       "      <td>Male</td>\n",
       "      <td>No</td>\n",
       "      <td>Sat</td>\n",
       "      <td>Dinner</td>\n",
       "      <td>2</td>\n",
       "      <td>11.00</td>\n",
       "    </tr>\n",
       "    <tr>\n",
       "      <th>43</th>\n",
       "      <td>9.68</td>\n",
       "      <td>1.32</td>\n",
       "      <td>Male</td>\n",
       "      <td>No</td>\n",
       "      <td>Sun</td>\n",
       "      <td>Dinner</td>\n",
       "      <td>2</td>\n",
       "      <td>11.00</td>\n",
       "    </tr>\n",
       "    <tr>\n",
       "      <th>235</th>\n",
       "      <td>10.07</td>\n",
       "      <td>1.25</td>\n",
       "      <td>Male</td>\n",
       "      <td>No</td>\n",
       "      <td>Sat</td>\n",
       "      <td>Dinner</td>\n",
       "      <td>2</td>\n",
       "      <td>11.32</td>\n",
       "    </tr>\n",
       "    <tr>\n",
       "      <th>53</th>\n",
       "      <td>9.94</td>\n",
       "      <td>1.56</td>\n",
       "      <td>Male</td>\n",
       "      <td>No</td>\n",
       "      <td>Sun</td>\n",
       "      <td>Dinner</td>\n",
       "      <td>2</td>\n",
       "      <td>11.50</td>\n",
       "    </tr>\n",
       "    <tr>\n",
       "      <th>148</th>\n",
       "      <td>9.78</td>\n",
       "      <td>1.73</td>\n",
       "      <td>Male</td>\n",
       "      <td>No</td>\n",
       "      <td>Thur</td>\n",
       "      <td>Lunch</td>\n",
       "      <td>2</td>\n",
       "      <td>11.51</td>\n",
       "    </tr>\n",
       "    <tr>\n",
       "      <th>75</th>\n",
       "      <td>10.51</td>\n",
       "      <td>1.25</td>\n",
       "      <td>Male</td>\n",
       "      <td>No</td>\n",
       "      <td>Sat</td>\n",
       "      <td>Dinner</td>\n",
       "      <td>2</td>\n",
       "      <td>11.76</td>\n",
       "    </tr>\n",
       "    <tr>\n",
       "      <th>82</th>\n",
       "      <td>10.07</td>\n",
       "      <td>1.83</td>\n",
       "      <td>Female</td>\n",
       "      <td>No</td>\n",
       "      <td>Thur</td>\n",
       "      <td>Lunch</td>\n",
       "      <td>1</td>\n",
       "      <td>11.90</td>\n",
       "    </tr>\n",
       "    <tr>\n",
       "      <th>10</th>\n",
       "      <td>10.27</td>\n",
       "      <td>1.71</td>\n",
       "      <td>Male</td>\n",
       "      <td>No</td>\n",
       "      <td>Sun</td>\n",
       "      <td>Dinner</td>\n",
       "      <td>2</td>\n",
       "      <td>11.98</td>\n",
       "    </tr>\n",
       "    <tr>\n",
       "      <th>1</th>\n",
       "      <td>10.34</td>\n",
       "      <td>1.66</td>\n",
       "      <td>Male</td>\n",
       "      <td>No</td>\n",
       "      <td>Sun</td>\n",
       "      <td>Dinner</td>\n",
       "      <td>3</td>\n",
       "      <td>12.00</td>\n",
       "    </tr>\n",
       "    <tr>\n",
       "      <th>16</th>\n",
       "      <td>10.33</td>\n",
       "      <td>1.67</td>\n",
       "      <td>Female</td>\n",
       "      <td>No</td>\n",
       "      <td>Sun</td>\n",
       "      <td>Dinner</td>\n",
       "      <td>3</td>\n",
       "      <td>12.00</td>\n",
       "    </tr>\n",
       "    <tr>\n",
       "      <th>226</th>\n",
       "      <td>10.09</td>\n",
       "      <td>2.00</td>\n",
       "      <td>Female</td>\n",
       "      <td>Yes</td>\n",
       "      <td>Fri</td>\n",
       "      <td>Lunch</td>\n",
       "      <td>2</td>\n",
       "      <td>12.09</td>\n",
       "    </tr>\n",
       "    <tr>\n",
       "      <th>117</th>\n",
       "      <td>10.65</td>\n",
       "      <td>1.50</td>\n",
       "      <td>Female</td>\n",
       "      <td>No</td>\n",
       "      <td>Thur</td>\n",
       "      <td>Lunch</td>\n",
       "      <td>2</td>\n",
       "      <td>12.15</td>\n",
       "    </tr>\n",
       "    <tr>\n",
       "      <th>168</th>\n",
       "      <td>10.59</td>\n",
       "      <td>1.61</td>\n",
       "      <td>Female</td>\n",
       "      <td>Yes</td>\n",
       "      <td>Sat</td>\n",
       "      <td>Dinner</td>\n",
       "      <td>2</td>\n",
       "      <td>12.20</td>\n",
       "    </tr>\n",
       "    <tr>\n",
       "      <th>233</th>\n",
       "      <td>10.77</td>\n",
       "      <td>1.47</td>\n",
       "      <td>Male</td>\n",
       "      <td>No</td>\n",
       "      <td>Sat</td>\n",
       "      <td>Dinner</td>\n",
       "      <td>2</td>\n",
       "      <td>12.24</td>\n",
       "    </tr>\n",
       "    <tr>\n",
       "      <th>136</th>\n",
       "      <td>10.33</td>\n",
       "      <td>2.00</td>\n",
       "      <td>Female</td>\n",
       "      <td>No</td>\n",
       "      <td>Thur</td>\n",
       "      <td>Lunch</td>\n",
       "      <td>2</td>\n",
       "      <td>12.33</td>\n",
       "    </tr>\n",
       "    <tr>\n",
       "      <th>196</th>\n",
       "      <td>10.34</td>\n",
       "      <td>2.00</td>\n",
       "      <td>Male</td>\n",
       "      <td>Yes</td>\n",
       "      <td>Thur</td>\n",
       "      <td>Lunch</td>\n",
       "      <td>2</td>\n",
       "      <td>12.34</td>\n",
       "    </tr>\n",
       "    <tr>\n",
       "      <th>172</th>\n",
       "      <td>7.25</td>\n",
       "      <td>5.15</td>\n",
       "      <td>Male</td>\n",
       "      <td>Yes</td>\n",
       "      <td>Sun</td>\n",
       "      <td>Dinner</td>\n",
       "      <td>2</td>\n",
       "      <td>12.40</td>\n",
       "    </tr>\n",
       "    <tr>\n",
       "      <th>169</th>\n",
       "      <td>10.63</td>\n",
       "      <td>2.00</td>\n",
       "      <td>Female</td>\n",
       "      <td>Yes</td>\n",
       "      <td>Sat</td>\n",
       "      <td>Dinner</td>\n",
       "      <td>2</td>\n",
       "      <td>12.63</td>\n",
       "    </tr>\n",
       "    <tr>\n",
       "      <th>132</th>\n",
       "      <td>11.17</td>\n",
       "      <td>1.50</td>\n",
       "      <td>Female</td>\n",
       "      <td>No</td>\n",
       "      <td>Thur</td>\n",
       "      <td>Lunch</td>\n",
       "      <td>2</td>\n",
       "      <td>12.67</td>\n",
       "    </tr>\n",
       "  </tbody>\n",
       "</table>\n",
       "</div>"
      ],
      "text/plain": [
       "     total_bill   tip     sex smoker   day    time  size  total_bill_tip_sum\n",
       "67         3.07  1.00  Female    Yes   Sat  Dinner     1                4.07\n",
       "92         5.75  1.00  Female    Yes   Fri  Dinner     2                6.75\n",
       "111        7.25  1.00  Female     No   Sat  Dinner     1                8.25\n",
       "195        7.56  1.44    Male     No  Thur   Lunch     2                9.00\n",
       "218        7.74  1.44    Male    Yes   Sat  Dinner     2                9.18\n",
       "149        7.51  2.00    Male     No  Thur   Lunch     2                9.51\n",
       "135        8.51  1.25  Female     No  Thur   Lunch     2                9.76\n",
       "145        8.35  1.50  Female     No  Thur   Lunch     2                9.85\n",
       "126        8.52  1.48    Male     No  Thur   Lunch     2               10.00\n",
       "222        8.58  1.92    Male    Yes   Fri   Lunch     1               10.50\n",
       "6          8.77  2.00    Male     No   Sun  Dinner     2               10.77\n",
       "30         9.55  1.45    Male     No   Sat  Dinner     2               11.00\n",
       "43         9.68  1.32    Male     No   Sun  Dinner     2               11.00\n",
       "235       10.07  1.25    Male     No   Sat  Dinner     2               11.32\n",
       "53         9.94  1.56    Male     No   Sun  Dinner     2               11.50\n",
       "148        9.78  1.73    Male     No  Thur   Lunch     2               11.51\n",
       "75        10.51  1.25    Male     No   Sat  Dinner     2               11.76\n",
       "82        10.07  1.83  Female     No  Thur   Lunch     1               11.90\n",
       "10        10.27  1.71    Male     No   Sun  Dinner     2               11.98\n",
       "1         10.34  1.66    Male     No   Sun  Dinner     3               12.00\n",
       "16        10.33  1.67  Female     No   Sun  Dinner     3               12.00\n",
       "226       10.09  2.00  Female    Yes   Fri   Lunch     2               12.09\n",
       "117       10.65  1.50  Female     No  Thur   Lunch     2               12.15\n",
       "168       10.59  1.61  Female    Yes   Sat  Dinner     2               12.20\n",
       "233       10.77  1.47    Male     No   Sat  Dinner     2               12.24\n",
       "136       10.33  2.00  Female     No  Thur   Lunch     2               12.33\n",
       "196       10.34  2.00    Male    Yes  Thur   Lunch     2               12.34\n",
       "172        7.25  5.15    Male    Yes   Sun  Dinner     2               12.40\n",
       "169       10.63  2.00  Female    Yes   Sat  Dinner     2               12.63\n",
       "132       11.17  1.50  Female     No  Thur   Lunch     2               12.67"
      ]
     },
     "execution_count": 118,
     "metadata": {},
     "output_type": "execute_result"
    }
   ],
   "source": [
    "dft = dft.sort_values(by='total_bill_tip_sum', ascending=True)\n",
    "yeni_df=dft.head(30)\n",
    "yeni_df"
   ]
  },
  {
   "cell_type": "code",
   "execution_count": null,
   "metadata": {},
   "outputs": [],
   "source": []
  }
 ],
 "metadata": {
  "kernelspec": {
   "display_name": "Python 3",
   "language": "python",
   "name": "python3"
  },
  "language_info": {
   "codemirror_mode": {
    "name": "ipython",
    "version": 3
   },
   "file_extension": ".py",
   "mimetype": "text/x-python",
   "name": "python",
   "nbconvert_exporter": "python",
   "pygments_lexer": "ipython3",
   "version": "3.8.5"
  }
 },
 "nbformat": 4,
 "nbformat_minor": 4
}
