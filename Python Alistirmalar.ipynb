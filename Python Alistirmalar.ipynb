{
 "cells": [
  {
   "cell_type": "markdown",
   "metadata": {},
   "source": [
    "Görev 2:  Verilen string ifadenin tüm harflerini büyük harfe çeviriniz. Virgül ve nokta yerine space koyunuz, kelime\n",
    "kelime ayırınız. \n",
    "Beklenen çıktı:\n",
    "['THE', 'GOAL', 'IS', 'TO', 'TURN', 'DATA', 'INTO', 'INFOTMATION', 'AND', 'INFORMATION', 'INTO', 'INSIGHT']\n"
   ]
  },
  {
   "cell_type": "code",
   "execution_count": 1,
   "metadata": {},
   "outputs": [
    {
     "name": "stdout",
     "output_type": "stream",
     "text": [
      "['THE', 'GOAL', 'IS', 'TO', 'TURN', 'DATA', 'INTO', 'INFOTMATION', 'AND', 'INFORMATION', 'INTO', 'INSIGHT']\n"
     ]
    }
   ],
   "source": [
    "text=\"The goal is to turn data into infotmation, and information into insight.\"\n",
    "text=text.upper().replace(\",\",\"\").replace(\".\",\"\").split()\n",
    "print(text)"
   ]
  },
  {
   "cell_type": "markdown",
   "metadata": {},
   "source": [
    "Görev 3:  Verilen listeye aşağıdaki adımları uygulayınız.\n",
    "\n",
    "lst = [\"D\", \"A\", \"T\", \"A\", \"S\", \"C\", \"I\", \"E\", \"N\", \"C\", \"E\"]\n",
    "\n",
    "Adım1: Verilen listenin eleman sayısına bakınız.\n",
    "\n",
    "Adım2: Sıfırıncı ve onuncu indeksteki elemanları çağırınız.\n",
    "\n",
    "Adım3: Verilen liste üzerinden [\"D\", \"A\", \"T\", \"A\"] listesi oluşturunuz.\n",
    "\n",
    "Adım4: Sekizinci indeksteki elemanı siliniz.\n",
    "\n",
    "Adım5: Yeni bir eleman ekleyiniz.\n",
    "\n",
    "Adım6: Sekizinci indekse \"N\" elemanını tekrar ekleyiniz.\n"
   ]
  },
  {
   "cell_type": "code",
   "execution_count": 2,
   "metadata": {},
   "outputs": [
    {
     "name": "stdout",
     "output_type": "stream",
     "text": [
      "11\n",
      "D E\n",
      "['D', 'A', 'T', 'A']\n",
      "['D', 'A', 'T', 'A', 'S', 'C', 'I', 'E', 'N', 'C', 'E', 'a']\n"
     ]
    }
   ],
   "source": [
    "lst = [\"D\", \"A\", \"T\", \"A\", \"S\", \"C\", \"I\", \"E\", \"N\", \"C\", \"E\"]\n",
    "#adım 1\n",
    "print(len(lst))\n",
    "#adım 2\n",
    "print(lst[0],lst[10])\n",
    "#adım 3\n",
    "print(lst[0:4])\n",
    "#adım 4\n",
    "lst.pop(8)\n",
    "#adım 5\n",
    "lst.append(\"a\")\n",
    "#adım 6\n",
    "lst.insert(8,\"N\")\n",
    "print(lst)"
   ]
  },
  {
   "cell_type": "markdown",
   "metadata": {},
   "source": [
    " Görev 4 - Verilen sözlük yapısına aşağıdaki adımları uygulayınız.\n",
    " \n",
    "dict = {'Christian': [\"America\", 18],\n",
    "        'Daisy': [\"England\", 12],\n",
    "        'Antonio': [\"Spain\", 22],\n",
    "        'Dante': [\"Italy\", 25]}\n",
    "        \n",
    "Adım1: Key değerlerine erişiniz.\n",
    "\n",
    "Adım2: Value'lara erişiniz.\n",
    "\n",
    "Adım3: Daisy key'ine ait 12 değerini 13 olarak güncelleyiniz.\n",
    "\n",
    "Adım4: Key değeri Ahmet value değeri[Turkey,24] olan yeni bir değer ekleyiniz.\n",
    "\n",
    "Adım5: Antonio'yu dictionary'den siliniz."
   ]
  },
  {
   "cell_type": "code",
   "execution_count": 3,
   "metadata": {},
   "outputs": [
    {
     "name": "stdout",
     "output_type": "stream",
     "text": [
      "dict_keys(['Christian', 'Daisy', 'Antonio', 'Dante'])\n",
      "dict_values([['America', 18], ['England', 12], ['Spain', 22], ['Italy', 25]])\n",
      "{'Christian': ['America', 18], 'Daisy': ['England', 13], 'Dante': ['Italy', 25], 'Ahmet': ['Turkey', 24]}\n"
     ]
    }
   ],
   "source": [
    "dict = {'Christian': [\"America\", 18],\n",
    "        'Daisy': [\"England\", 12],\n",
    "        'Antonio': [\"Spain\", 22],\n",
    "        'Dante': [\"Italy\", 25]}\n",
    "#adım 1\n",
    "print(dict.keys())\n",
    "#adım 2\n",
    "print(dict.values())\n",
    "#adım 3\n",
    "dict[\"Daisy\"][1]=13\n",
    "#adım 4\n",
    "dict[\"Ahmet\"]=[\"Turkey\",24]\n",
    "#adım 5\n",
    "dict.pop('Antonio')\n",
    "print(dict)"
   ]
  },
  {
   "cell_type": "markdown",
   "metadata": {},
   "source": [
    "Görev 5 - Argüman olarak bir liste alan, listenin içerisinde tek ve çift sayıları ayrı listeye atayan ve bu listeleri return \n",
    "\n",
    "eden fonksiyon yazınız.\n",
    "\n",
    "l = [2, 13, 18, 93, 22]\n",
    "\n",
    "def func(..):\n",
    "\n",
    "   ...\n",
    "   \n",
    "   ...\n",
    "   \n",
    "   return ..\n",
    "   \n",
    "even_ list, odd_list = func(l)\n"
   ]
  },
  {
   "cell_type": "code",
   "execution_count": 4,
   "metadata": {},
   "outputs": [
    {
     "name": "stdout",
     "output_type": "stream",
     "text": [
      "[2, 18, 22]\n",
      "[13, 93]\n"
     ]
    }
   ],
   "source": [
    "l = [2, 13, 18, 93, 22]\n",
    "def func(l):\n",
    "    even_list=[]\n",
    "    odd_list=[]\n",
    "    for i in l:\n",
    "        if i%2==0:\n",
    "            even_list.append(i)\n",
    "        else:\n",
    "            odd_list.append(i)\n",
    "    return even_list, odd_list\n",
    "even_list, odd_list = func(l)\n",
    "print(even_list)\n",
    "print(odd_list)"
   ]
  },
  {
   "cell_type": "markdown",
   "metadata": {},
   "source": [
    "Görev 6: Aşağıda verilen listede mühendislik ve tıp fakültelerinde dereceye giren öğrencilerin isimleri bulunmaktadır.\n",
    "\n",
    "Sırasıyla ilk üç öğrenci mühendislik fakültesinin başarı sırasını temsil ederken son üç öğrenci de tıp fakültesi öğrenci \n",
    "sırasına aittir.\n",
    "\n",
    "Enumarate kullanarak öğrenci derecelerini fakülte özelinde yazdırınız.\n",
    "\n",
    "ogrenciler = [\"Ali\", \"Veli\", \"Ayşe\", \"Talat\", \"Zeynep\", \"Ece\"]\n"
   ]
  },
  {
   "cell_type": "code",
   "execution_count": 5,
   "metadata": {},
   "outputs": [
    {
     "name": "stdout",
     "output_type": "stream",
     "text": [
      "Mühendislik Fakültesi 1 . öğrenci Ali\n",
      "Mühendislik Fakültesi 2 . öğrenci Veli\n",
      "Mühendislik Fakültesi 3 . öğrenci Ayşe\n",
      "Tıp Fakültesi 4 . öğrenci Talat\n",
      "Tıp Fakültesi 5 . öğrenci Zeynep\n",
      "Tıp Fakültesi 6 . öğrenci Ece\n"
     ]
    }
   ],
   "source": [
    "ogrenciler = [\"Ali\", \"Veli\", \"Ayşe\", \"Talat\", \"Zeynep\", \"Ece\"]\n",
    "\n",
    "for i,ogrenci in enumerate(ogrenciler,1):\n",
    "    if i < 4:\n",
    "        print(\"Mühendislik Fakültesi\", i, \". öğrenci\", ogrenci)\n",
    "    else:\n",
    "        print(\"Tıp Fakültesi\", i, \". öğrenci\", ogrenci)"
   ]
  },
  {
   "cell_type": "markdown",
   "metadata": {},
   "source": [
    "Görev 7:Aşağıda 3 adet liste verilmiştir. Listelerde sırası ile bir dersin kodu, kredisi ve kontenjan bilgileri yer almaktadır.\n",
    "\n",
    "Zip kullanarak ders bilgilerini bastırınız. \n",
    "\n",
    "ders_kodu = [\"CMP1005\", \"Psy1001\", \"Huk1005\", \"Sen2204\"]\n",
    "\n",
    "kredi = [3,4,2,4]\n",
    "\n",
    "kontenjan = [30,75,150,25]\n"
   ]
  },
  {
   "cell_type": "code",
   "execution_count": 6,
   "metadata": {},
   "outputs": [
    {
     "name": "stdout",
     "output_type": "stream",
     "text": [
      "Kredisi 3 olan CMP1005 kodlu dersin kontenjanı 30 kişidir.\n",
      "Kredisi 4 olan Psy1001 kodlu dersin kontenjanı 75 kişidir.\n",
      "Kredisi 2 olan Huk1005 kodlu dersin kontenjanı 150 kişidir.\n",
      "Kredisi 4 olan Sen2204 kodlu dersin kontenjanı 25 kişidir.\n"
     ]
    }
   ],
   "source": [
    "ders_kodu = [\"CMP1005\", \"Psy1001\", \"Huk1005\", \"Sen2204\"]\n",
    "kredi = [3,4,2,4]\n",
    "kontenjan = [30,75,150,25]\n",
    "list = list(zip(ders_kodu,kredi,kontenjan))\n",
    "for ders_kodu, kredi, kontenjan in list:\n",
    "    print(f\"Kredisi {kredi} olan {ders_kodu} kodlu dersin kontenjanı {kontenjan} kişidir.\")"
   ]
  },
  {
   "cell_type": "markdown",
   "metadata": {},
   "source": [
    "Görev 8: Aşağıda 2 adet set verilmiştir. Sizden istenilen: eğer 1. küme 2. kümeyi kapsiyor ise ortak elemanlarını eğer kapsamıyor ise 2. kümenin 1. kümeden farkını yazdıracak fonksiyonu tanımlamanız beklenmektedir."
   ]
  },
  {
   "cell_type": "code",
   "execution_count": 7,
   "metadata": {},
   "outputs": [
    {
     "name": "stdout",
     "output_type": "stream",
     "text": [
      "{'lambda', 'function', 'miuul', 'qcut'}\n"
     ]
    }
   ],
   "source": [
    "kume1 = set([\"data\", \"python\"])\n",
    "kume2 = set([\"data\", \"function\", \"qcut\", \"lambda\", \"python\", \"miuul\"])\n",
    "\n",
    "def belirle(k1,k2):\n",
    "    if k1.issuperset(k2):\n",
    "        print(k1.intersection(k2))\n",
    "    else:\n",
    "        print(k2.difference(k1))\n",
    "        \n",
    "belirle(kume1,kume2)"
   ]
  },
  {
   "cell_type": "code",
   "execution_count": null,
   "metadata": {},
   "outputs": [],
   "source": []
  },
  {
   "cell_type": "code",
   "execution_count": null,
   "metadata": {},
   "outputs": [],
   "source": []
  }
 ],
 "metadata": {
  "kernelspec": {
   "display_name": "Python 3",
   "language": "python",
   "name": "python3"
  },
  "language_info": {
   "codemirror_mode": {
    "name": "ipython",
    "version": 3
   },
   "file_extension": ".py",
   "mimetype": "text/x-python",
   "name": "python",
   "nbconvert_exporter": "python",
   "pygments_lexer": "ipython3",
   "version": "3.8.5"
  }
 },
 "nbformat": 4,
 "nbformat_minor": 4
}
